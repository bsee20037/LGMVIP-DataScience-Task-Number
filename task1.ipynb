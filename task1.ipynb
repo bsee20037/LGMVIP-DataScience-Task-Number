{
 "cells": [
  {
   "cell_type": "code",
   "execution_count": 77,
   "metadata": {},
   "outputs": [],
   "source": [
    "# Import Libraries\n",
    "import numpy as np\n",
    "import pandas as pd\n",
    "from sklearn.metrics import confusion_matrix, accuracy_score, classification_report\n",
    "from sklearn.preprocessing import LabelEncoder\n",
    "from sklearn.model_selection import train_test_split\n",
    "from sklearn.linear_model import LogisticRegression\n",
    "\n",
    "# Load Dataset\n",
    "df = pd.read_csv(\"iris.csv\")\n",
    "data = df.iloc[:, 1:]\n",
    "\n"
   ]
  },
  {
   "cell_type": "code",
   "execution_count": 79,
   "metadata": {},
   "outputs": [],
   "source": [
    "\n",
    "# Encode the categorical columns\n",
    "le = LabelEncoder()\n",
    "data['Species'] = le.fit_transform(data['Species'])\n",
    "\n",
    "# Defining the X and y\n",
    "X = data.drop(columns=['Species'], axis=1)\n",
    "y = data['Species']\n",
    "\n",
    "# Splitting the data to train and test\n",
    "X_train, X_test, y_train, y_test = train_test_split(X, y, test_size=0.3)\n"
   ]
  },
  {
   "cell_type": "code",
   "execution_count": 92,
   "metadata": {},
   "outputs": [],
   "source": [
    "\n",
    "def evaluate_model(model, X_train, X_test, y_train, y_test):\n",
    "    '''Evaluates a model's performance and returns precision'''\n",
    "    model.fit(X_train, y_train)\n",
    "    y_pred_train = model.predict(X_train)\n",
    "    y_pred_test = model.predict(X_test)\n",
    "\n",
    "    cr_train = classification_report(y_train, y_pred_train, output_dict=True)\n",
    "    cr_test = classification_report(y_test, y_pred_test, output_dict=True)\n",
    "\n",
    "    precision_train = cr_train['weighted avg']['precision']\n",
    "    precision_test = cr_test['weighted avg']['precision']\n",
    "\n",
    "    return [precision_train, precision_test]"
   ]
  },
  {
   "cell_type": "code",
   "execution_count": 94,
   "metadata": {},
   "outputs": [
    {
     "name": "stdout",
     "output_type": "stream",
     "text": [
      "[0.9809523809523809, 0.9611111111111111]\n"
     ]
    }
   ],
   "source": [
    "\n",
    "# ML Model - 1 Implementation\n",
    "lr_model = LogisticRegression(fit_intercept=True, max_iter=10000)\n",
    "\n",
    "# Evaluate Model\n",
    "lr_score = evaluate_model(lr_model, X_train, X_test, y_train, y_test)\n",
    "\n",
    "# Display updated Evaluation metric Score Chart\n",
    "print(lr_score)"
   ]
  },
  {
   "cell_type": "code",
   "execution_count": 96,
   "metadata": {},
   "outputs": [
    {
     "data": {
      "image/png": "[encoded data removed]",
      "text/plain": [
       "<Figure size 640x480 with 1 Axes>"
      ]
     },
     "metadata": {},
     "output_type": "display_data"
    }
   ],
   "source": [
    "# Plotting Precision Scores\n",
    "labels = ['Precision Train', 'Precision Test']\n",
    "scores = [lr_score[0], lr_score[1]]\n",
    "\n",
    "plt.bar(labels, scores, color=['blue', 'orange'])\n",
    "plt.title('Precision Scores')\n",
    "plt.ylabel('Precision')\n",
    "plt.ylim(0, 1)\n",
    "plt.show()"
   ]
  },
  {
   "cell_type": "code",
   "execution_count": null,
   "metadata": {},
   "outputs": [],
   "source": []
  }
 ],
 "metadata": {
  "colab": {
   "collapsed_sections": [
    "vncDsAP0Gaoa",
    "FJNUwmbgGyua",
    "w6K7xa23Elo4",
    "yQaldy8SH6Dl",
    "O_i_v8NEhb9l",
    "HhfV-JJviCcP",
    "Y3lxredqlCYt",
    "3RnN4peoiCZX",
    "x71ZqKXriCWQ",
    "7hBIi_osiCS2",
    "JlHwYmJAmNHm",
    "35m5QtbWiB9F",
    "PoPl-ycgm1ru",
    "H0kj-8xxnORC",
    "nA9Y7ga8ng1Z",
    "u3PMJOP6ngxN",
    "dauF4eBmngu3",
    "bKJF3rekwFvQ",
    "MSa1f5Uengrz",
    "GF8Ens_Soomf",
    "0wOQAZs5pc--",
    "KSlN3yHqYklG",
    "EM7whBJCYoAo",
    "4Of9eVA-YrdM",
    "bamQiAODYuh1",
    "OH-pJp9IphqM",
    "yLjJCtPM0KBk",
    "89xtkJwZ18nB",
    "rMDnDkt2B6du",
    "BhH2vgX9EjGr",
    "VfCC591jGiD4",
    "mWppNeqWwA-M",
    "pTi0g55fwA-W",
    "iv0m-lDQwA-W",
    "mwnxeO7jwA-X",
    "huCCA590wA-X",
    "VzKNBLqiwA-Y",
    "1GL-36pywA-Y",
    "nWFgbYYVwA-Z",
    "841njF38wA-Z",
    "AkBX0MHbwA-a",
    "Bgen1cFIwA-a",
    "JPT_4dYWwA-a",
    "LRvyaI9BwA-b",
    "c-26ctgmwA-c",
    "HO3sJ66GwA-c",
    "lHIyvCjC_4_G",
    "zlBiexnN_4_G",
    "ffEiQ19I_4_H",
    "Bbpe4TaP_4_H",
    "ifZ_nK19_4_H",
    "2CnsMkMiM-8g",
    "axoYmkZZM-8g",
    "YcglZXVVM-8h",
    "dOuC2Vx2M-8i",
    "N5YXAPbAM-8i",
    "pVXGvXVb_6FF",
    "1R6e5Trb_6FF",
    "zhaPpYXo_6FF",
    "ZYFMyHqX_6FG",
    "t4hU8F0I_6FG",
    "1NNpISRdaSng",
    "6IvVWbfDaSnh",
    "0bSwMgKcaSnh",
    "IXHnAaJfaSni",
    "BSoGk_2RaSnj",
    "UisOqWiDb6SZ",
    "h_CCil-SKHpo",
    "cBFFvTBNJzUa",
    "HvGl1hHyA_VK",
    "gCX9965dhzqZ"
   ],
   "include_colab_link": true,
   "provenance": []
  },
  "kernelspec": {
   "display_name": "Python 3 (ipykernel)",
   "language": "python",
   "name": "python3"
  },
  "language_info": {
   "codemirror_mode": {
    "name": "ipython",
    "version": 3
   },
   "file_extension": ".py",
   "mimetype": "text/x-python",
   "name": "python",
   "nbconvert_exporter": "python",
   "pygments_lexer": "ipython3",
   "version": "3.12.4"
  }
 },
 "nbformat": 4,
 "nbformat_minor": 4
}
